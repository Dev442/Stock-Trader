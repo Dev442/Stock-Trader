{
 "cells": [
  {
   "cell_type": "code",
   "execution_count": 6,
   "metadata": {},
   "outputs": [
    {
     "name": "stdout",
     "output_type": "stream",
     "text": [
      "\u001b[01;34m..\u001b[00m\r\n",
      "├── \u001b[01;34mdata\u001b[00m\r\n",
      "│   ├── dfs.csv\r\n",
      "│   ├── master_card.csv\r\n",
      "│   ├── paypal.csv\r\n",
      "│   └── visa.csv\r\n",
      "├── \u001b[01;34mnotebooks\u001b[00m\r\n",
      "│   └── Preprocessing.ipynb\r\n",
      "└── \u001b[01;34msrc\u001b[00m\r\n",
      "    ├── \u001b[01;34mbackend\u001b[00m\r\n",
      "    ├── \u001b[01;34mengine\u001b[00m\r\n",
      "    └── \u001b[01;34mfrontend\u001b[00m\r\n",
      "\r\n",
      "6 directories, 5 files\r\n"
     ]
    }
   ],
   "source": [
    "!tree .."
   ]
  },
  {
   "cell_type": "code",
   "execution_count": 10,
   "metadata": {},
   "outputs": [],
   "source": [
    "import numpy as np\n",
    "import pandas as pd\n",
    "from pathlib import Path"
   ]
  },
  {
   "cell_type": "code",
   "execution_count": 27,
   "metadata": {},
   "outputs": [],
   "source": [
    "BASE = Path('./../').absolute()\n",
    "DATA = BASE.joinpath('data')"
   ]
  },
  {
   "cell_type": "code",
   "execution_count": 30,
   "metadata": {},
   "outputs": [],
   "source": [
    "visa = pd.read_csv(DATA.joinpath('visa.csv'))\n",
    "masterCard = pd.read_csv(DATA.joinpath('master_card.csv'))\n",
    "dfs = pd.read_csv(DATA.joinpath('dfs.csv'))\n",
    "paypl = pd.read_csv(DATA.joinpath('paypal.csv'))"
   ]
  },
  {
   "cell_type": "code",
   "execution_count": 32,
   "metadata": {},
   "outputs": [
    {
     "data": {
      "text/plain": [
       "(13112, 7)"
      ]
     },
     "execution_count": 32,
     "metadata": {},
     "output_type": "execute_result"
    }
   ],
   "source": [
    "visa.shape"
   ]
  },
  {
   "cell_type": "code",
   "execution_count": 33,
   "metadata": {},
   "outputs": [
    {
     "data": {
      "text/plain": [
       "(10533, 7)"
      ]
     },
     "execution_count": 33,
     "metadata": {},
     "output_type": "execute_result"
    }
   ],
   "source": [
    "masterCard.shape"
   ]
  },
  {
   "cell_type": "code",
   "execution_count": 34,
   "metadata": {},
   "outputs": [
    {
     "data": {
      "text/plain": [
       "(10158, 7)"
      ]
     },
     "execution_count": 34,
     "metadata": {},
     "output_type": "execute_result"
    }
   ],
   "source": [
    "dfs.shape"
   ]
  },
  {
   "cell_type": "code",
   "execution_count": 35,
   "metadata": {},
   "outputs": [
    {
     "data": {
      "text/plain": [
       "(9966, 7)"
      ]
     },
     "execution_count": 35,
     "metadata": {},
     "output_type": "execute_result"
    }
   ],
   "source": [
    "paypl.shape"
   ]
  },
  {
   "cell_type": "code",
   "execution_count": 36,
   "metadata": {},
   "outputs": [
    {
     "data": {
      "text/html": [
       "<div>\n",
       "<style scoped>\n",
       "    .dataframe tbody tr th:only-of-type {\n",
       "        vertical-align: middle;\n",
       "    }\n",
       "\n",
       "    .dataframe tbody tr th {\n",
       "        vertical-align: top;\n",
       "    }\n",
       "\n",
       "    .dataframe thead th {\n",
       "        text-align: right;\n",
       "    }\n",
       "</style>\n",
       "<table border=\"1\" class=\"dataframe\">\n",
       "  <thead>\n",
       "    <tr style=\"text-align: right;\">\n",
       "      <th></th>\n",
       "      <th>Datetime</th>\n",
       "      <th>Open</th>\n",
       "      <th>High</th>\n",
       "      <th>Low</th>\n",
       "      <th>Close</th>\n",
       "      <th>Adj Close</th>\n",
       "      <th>Volume</th>\n",
       "    </tr>\n",
       "  </thead>\n",
       "  <tbody>\n",
       "    <tr>\n",
       "      <th>0</th>\n",
       "      <td>2019-12-06 09:30:00</td>\n",
       "      <td>182.740005</td>\n",
       "      <td>183.059998</td>\n",
       "      <td>182.660004</td>\n",
       "      <td>182.815002</td>\n",
       "      <td>182.815002</td>\n",
       "      <td>170860</td>\n",
       "    </tr>\n",
       "    <tr>\n",
       "      <th>1</th>\n",
       "      <td>2019-12-06 09:33:00</td>\n",
       "      <td>182.779999</td>\n",
       "      <td>182.899994</td>\n",
       "      <td>182.779999</td>\n",
       "      <td>182.889999</td>\n",
       "      <td>182.889999</td>\n",
       "      <td>104537</td>\n",
       "    </tr>\n",
       "    <tr>\n",
       "      <th>2</th>\n",
       "      <td>2019-12-06 09:34:00</td>\n",
       "      <td>182.880005</td>\n",
       "      <td>182.979996</td>\n",
       "      <td>182.800003</td>\n",
       "      <td>182.869995</td>\n",
       "      <td>182.869995</td>\n",
       "      <td>29550</td>\n",
       "    </tr>\n",
       "    <tr>\n",
       "      <th>3</th>\n",
       "      <td>2019-12-06 09:35:00</td>\n",
       "      <td>182.919998</td>\n",
       "      <td>183.279999</td>\n",
       "      <td>182.919998</td>\n",
       "      <td>183.190002</td>\n",
       "      <td>183.190002</td>\n",
       "      <td>36534</td>\n",
       "    </tr>\n",
       "    <tr>\n",
       "      <th>4</th>\n",
       "      <td>2019-12-06 09:36:00</td>\n",
       "      <td>183.160004</td>\n",
       "      <td>183.226501</td>\n",
       "      <td>182.929993</td>\n",
       "      <td>182.970001</td>\n",
       "      <td>182.970001</td>\n",
       "      <td>19835</td>\n",
       "    </tr>\n",
       "    <tr>\n",
       "      <th>...</th>\n",
       "      <td>...</td>\n",
       "      <td>...</td>\n",
       "      <td>...</td>\n",
       "      <td>...</td>\n",
       "      <td>...</td>\n",
       "      <td>...</td>\n",
       "      <td>...</td>\n",
       "    </tr>\n",
       "    <tr>\n",
       "      <th>13107</th>\n",
       "      <td>2020-01-31 15:55:00</td>\n",
       "      <td>198.960000</td>\n",
       "      <td>198.960000</td>\n",
       "      <td>198.550000</td>\n",
       "      <td>198.560000</td>\n",
       "      <td>198.560000</td>\n",
       "      <td>93225</td>\n",
       "    </tr>\n",
       "    <tr>\n",
       "      <th>13108</th>\n",
       "      <td>2020-01-31 15:56:00</td>\n",
       "      <td>198.560000</td>\n",
       "      <td>198.580000</td>\n",
       "      <td>198.400000</td>\n",
       "      <td>198.490000</td>\n",
       "      <td>198.490000</td>\n",
       "      <td>137772</td>\n",
       "    </tr>\n",
       "    <tr>\n",
       "      <th>13109</th>\n",
       "      <td>2020-01-31 15:57:00</td>\n",
       "      <td>198.480000</td>\n",
       "      <td>198.990000</td>\n",
       "      <td>198.480000</td>\n",
       "      <td>198.990000</td>\n",
       "      <td>198.990000</td>\n",
       "      <td>149520</td>\n",
       "    </tr>\n",
       "    <tr>\n",
       "      <th>13110</th>\n",
       "      <td>2020-01-31 15:58:00</td>\n",
       "      <td>198.960000</td>\n",
       "      <td>199.130000</td>\n",
       "      <td>198.800000</td>\n",
       "      <td>199.080000</td>\n",
       "      <td>199.080000</td>\n",
       "      <td>161446</td>\n",
       "    </tr>\n",
       "    <tr>\n",
       "      <th>13111</th>\n",
       "      <td>2020-01-31 15:59:00</td>\n",
       "      <td>199.070000</td>\n",
       "      <td>199.130000</td>\n",
       "      <td>198.860000</td>\n",
       "      <td>198.960000</td>\n",
       "      <td>198.960000</td>\n",
       "      <td>224586</td>\n",
       "    </tr>\n",
       "  </tbody>\n",
       "</table>\n",
       "<p>13112 rows × 7 columns</p>\n",
       "</div>"
      ],
      "text/plain": [
       "                  Datetime        Open        High         Low       Close  \\\n",
       "0      2019-12-06 09:30:00  182.740005  183.059998  182.660004  182.815002   \n",
       "1      2019-12-06 09:33:00  182.779999  182.899994  182.779999  182.889999   \n",
       "2      2019-12-06 09:34:00  182.880005  182.979996  182.800003  182.869995   \n",
       "3      2019-12-06 09:35:00  182.919998  183.279999  182.919998  183.190002   \n",
       "4      2019-12-06 09:36:00  183.160004  183.226501  182.929993  182.970001   \n",
       "...                    ...         ...         ...         ...         ...   \n",
       "13107  2020-01-31 15:55:00  198.960000  198.960000  198.550000  198.560000   \n",
       "13108  2020-01-31 15:56:00  198.560000  198.580000  198.400000  198.490000   \n",
       "13109  2020-01-31 15:57:00  198.480000  198.990000  198.480000  198.990000   \n",
       "13110  2020-01-31 15:58:00  198.960000  199.130000  198.800000  199.080000   \n",
       "13111  2020-01-31 15:59:00  199.070000  199.130000  198.860000  198.960000   \n",
       "\n",
       "        Adj Close  Volume  \n",
       "0      182.815002  170860  \n",
       "1      182.889999  104537  \n",
       "2      182.869995   29550  \n",
       "3      183.190002   36534  \n",
       "4      182.970001   19835  \n",
       "...           ...     ...  \n",
       "13107  198.560000   93225  \n",
       "13108  198.490000  137772  \n",
       "13109  198.990000  149520  \n",
       "13110  199.080000  161446  \n",
       "13111  198.960000  224586  \n",
       "\n",
       "[13112 rows x 7 columns]"
      ]
     },
     "execution_count": 36,
     "metadata": {},
     "output_type": "execute_result"
    }
   ],
   "source": [
    "visa"
   ]
  },
  {
   "cell_type": "code",
   "execution_count": null,
   "metadata": {},
   "outputs": [],
   "source": []
  }
 ],
 "metadata": {
  "kernelspec": {
   "display_name": "Python 3",
   "language": "python",
   "name": "python3"
  },
  "language_info": {
   "codemirror_mode": {
    "name": "ipython",
    "version": 3
   },
   "file_extension": ".py",
   "mimetype": "text/x-python",
   "name": "python",
   "nbconvert_exporter": "python",
   "pygments_lexer": "ipython3",
   "version": "3.6.10"
  }
 },
 "nbformat": 4,
 "nbformat_minor": 2
}
